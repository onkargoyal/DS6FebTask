{
 "cells": [
  {
   "cell_type": "code",
   "execution_count": 12,
   "metadata": {},
   "outputs": [
    {
     "name": "stdout",
     "output_type": "stream",
     "text": [
      "1 34\n",
      "4 (45, 22, 61, 34)\n",
      "473769064883936877783044308992000\n"
     ]
    }
   ],
   "source": [
    "#1\n",
    "list1 = [1,2,3,4, [44,55,66, True], False, (34,56,78,89,34), {1,2,3,3,2,1}, {1:34, \"key2\": [55, 67, 78, 89], 4: (45,\n",
    "22, 61, 34)}, [56, 'data science'], 'Machine Learning']\n",
    "\n",
    "def flatListAndFindProduct(list1):\n",
    "    acc=1\n",
    "    for ele in list1:\n",
    "        if type(ele)==int:\n",
    "            acc=acc+ele\n",
    "        if type(ele)==list:\n",
    "            for subele in ele:\n",
    "                if type(subele)==int:\n",
    "                    acc=acc*subele\n",
    "        if type(ele)==tuple:\n",
    "            listofeletuple=list(ele)\n",
    "            for subele in listofeletuple:\n",
    "                if type(subele)==int:\n",
    "                    acc=acc*subele\n",
    "\n",
    "        if type(ele)==dict:\n",
    "            for key, value in ele.items():\n",
    "                if type(value)==int:\n",
    "                    acc=acc*value\n",
    "                    print(key, value )\n",
    "                if type(value)==list:\n",
    "                    for ele in value:\n",
    "                        if type(ele)==int:\n",
    "                            acc=acc*ele\n",
    "                if type(value)==tuple:\n",
    "                    print (key, value)\n",
    "                    dictstupletolist = list(value)\n",
    "                    for subele in dictstupletolist:\n",
    "                        if type(subele)==int:\n",
    "                            acc=acc*subele\n",
    "                        \n",
    "\n",
    "        if type(ele)==set:\n",
    "            for subele in ele:\n",
    "                if type(subele)==int:\n",
    "                    acc=acc*subele\n",
    "    return acc\n",
    "\n",
    "print(flatListAndFindProduct(list1))\n",
    "\n",
    "\n",
    "            \n",
    "\n",
    "\n"
   ]
  },
  {
   "cell_type": "code",
   "execution_count": 38,
   "metadata": {},
   "outputs": [
    {
     "name": "stdout",
     "output_type": "stream",
     "text": [
      "r$wzmg$gl$yvxlmv$z$wzgz$hxrvmgrhg.\n"
     ]
    }
   ],
   "source": [
    "#2. ENCRYPTION:\n",
    "def encryptString(str):\n",
    "    strAplhabet = \"abcdefghijklmnopqrstuvwxyz\"\n",
    "   \n",
    "   \n",
    "    str2=str.lower()\n",
    "    for alphabet in str2:\n",
    "        counteralpha=-1\n",
    "        for alpha in strAplhabet:\n",
    "            counteralpha=counteralpha+1\n",
    "            if alphabet==alpha:\n",
    "                \n",
    "             \n",
    "            \n",
    "                str2= str2.replace(alphabet, strAplhabet[25-counteralpha])\n",
    "                \n",
    "        if alphabet==' ':\n",
    "            str2=str2.replace(alphabet,'$')          \n",
    "                \n",
    "    return str2\n",
    "\n",
    "print(encryptString(\"I want to become a Data Scientist.\"))"
   ]
  },
  {
   "cell_type": "code",
   "execution_count": null,
   "metadata": {},
   "outputs": [],
   "source": []
  }
 ],
 "metadata": {
  "kernelspec": {
   "display_name": "Python 3",
   "language": "python",
   "name": "python3"
  },
  "language_info": {
   "codemirror_mode": {
    "name": "ipython",
    "version": 3
   },
   "file_extension": ".py",
   "mimetype": "text/x-python",
   "name": "python",
   "nbconvert_exporter": "python",
   "pygments_lexer": "ipython3",
   "version": "3.11.1"
  },
  "orig_nbformat": 4,
  "vscode": {
   "interpreter": {
    "hash": "5238573367df39f7286bb46f9ff5f08f63a01a80960060ce41e3c79b190280fa"
   }
  }
 },
 "nbformat": 4,
 "nbformat_minor": 2
}
